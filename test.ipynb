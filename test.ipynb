{
 "cells": [
  {
   "cell_type": "markdown",
   "id": "b3fc84ea",
   "metadata": {},
   "source": [
    "Đọc file 'healthcare-dataset-stroke-data.csv' bằng thư viện pandas"
   ]
  },
  {
   "cell_type": "code",
   "execution_count": 53,
   "id": "35874a5b",
   "metadata": {},
   "outputs": [
    {
     "data": {
      "text/html": [
       "<div>\n",
       "<style scoped>\n",
       "    .dataframe tbody tr th:only-of-type {\n",
       "        vertical-align: middle;\n",
       "    }\n",
       "\n",
       "    .dataframe tbody tr th {\n",
       "        vertical-align: top;\n",
       "    }\n",
       "\n",
       "    .dataframe thead th {\n",
       "        text-align: right;\n",
       "    }\n",
       "</style>\n",
       "<table border=\"1\" class=\"dataframe\">\n",
       "  <thead>\n",
       "    <tr style=\"text-align: right;\">\n",
       "      <th></th>\n",
       "      <th>id</th>\n",
       "      <th>gender</th>\n",
       "      <th>age</th>\n",
       "      <th>hypertension</th>\n",
       "      <th>heart_disease</th>\n",
       "      <th>ever_married</th>\n",
       "      <th>work_type</th>\n",
       "      <th>Residence_type</th>\n",
       "      <th>avg_glucose_level</th>\n",
       "      <th>bmi</th>\n",
       "      <th>smoking_status</th>\n",
       "      <th>stroke</th>\n",
       "    </tr>\n",
       "  </thead>\n",
       "  <tbody>\n",
       "    <tr>\n",
       "      <th>0</th>\n",
       "      <td>9046</td>\n",
       "      <td>Male</td>\n",
       "      <td>67.0</td>\n",
       "      <td>0</td>\n",
       "      <td>1</td>\n",
       "      <td>Yes</td>\n",
       "      <td>Private</td>\n",
       "      <td>Urban</td>\n",
       "      <td>228.69</td>\n",
       "      <td>36.6</td>\n",
       "      <td>formerly smoked</td>\n",
       "      <td>1</td>\n",
       "    </tr>\n",
       "    <tr>\n",
       "      <th>1</th>\n",
       "      <td>51676</td>\n",
       "      <td>Female</td>\n",
       "      <td>61.0</td>\n",
       "      <td>0</td>\n",
       "      <td>0</td>\n",
       "      <td>Yes</td>\n",
       "      <td>Self-employed</td>\n",
       "      <td>Rural</td>\n",
       "      <td>202.21</td>\n",
       "      <td>NaN</td>\n",
       "      <td>never smoked</td>\n",
       "      <td>1</td>\n",
       "    </tr>\n",
       "    <tr>\n",
       "      <th>2</th>\n",
       "      <td>31112</td>\n",
       "      <td>Male</td>\n",
       "      <td>80.0</td>\n",
       "      <td>0</td>\n",
       "      <td>1</td>\n",
       "      <td>Yes</td>\n",
       "      <td>Private</td>\n",
       "      <td>Rural</td>\n",
       "      <td>105.92</td>\n",
       "      <td>32.5</td>\n",
       "      <td>never smoked</td>\n",
       "      <td>1</td>\n",
       "    </tr>\n",
       "    <tr>\n",
       "      <th>3</th>\n",
       "      <td>60182</td>\n",
       "      <td>Female</td>\n",
       "      <td>49.0</td>\n",
       "      <td>0</td>\n",
       "      <td>0</td>\n",
       "      <td>Yes</td>\n",
       "      <td>Private</td>\n",
       "      <td>Urban</td>\n",
       "      <td>171.23</td>\n",
       "      <td>34.4</td>\n",
       "      <td>smokes</td>\n",
       "      <td>1</td>\n",
       "    </tr>\n",
       "    <tr>\n",
       "      <th>4</th>\n",
       "      <td>1665</td>\n",
       "      <td>Female</td>\n",
       "      <td>79.0</td>\n",
       "      <td>1</td>\n",
       "      <td>0</td>\n",
       "      <td>Yes</td>\n",
       "      <td>Self-employed</td>\n",
       "      <td>Rural</td>\n",
       "      <td>174.12</td>\n",
       "      <td>24.0</td>\n",
       "      <td>never smoked</td>\n",
       "      <td>1</td>\n",
       "    </tr>\n",
       "  </tbody>\n",
       "</table>\n",
       "</div>"
      ],
      "text/plain": [
       "      id  gender   age  hypertension  heart_disease ever_married  \\\n",
       "0   9046    Male  67.0             0              1          Yes   \n",
       "1  51676  Female  61.0             0              0          Yes   \n",
       "2  31112    Male  80.0             0              1          Yes   \n",
       "3  60182  Female  49.0             0              0          Yes   \n",
       "4   1665  Female  79.0             1              0          Yes   \n",
       "\n",
       "       work_type Residence_type  avg_glucose_level   bmi   smoking_status  \\\n",
       "0        Private          Urban             228.69  36.6  formerly smoked   \n",
       "1  Self-employed          Rural             202.21   NaN     never smoked   \n",
       "2        Private          Rural             105.92  32.5     never smoked   \n",
       "3        Private          Urban             171.23  34.4           smokes   \n",
       "4  Self-employed          Rural             174.12  24.0     never smoked   \n",
       "\n",
       "   stroke  \n",
       "0       1  \n",
       "1       1  \n",
       "2       1  \n",
       "3       1  \n",
       "4       1  "
      ]
     },
     "execution_count": 53,
     "metadata": {},
     "output_type": "execute_result"
    }
   ],
   "source": [
    "import pandas as pd\n",
    "df = pd.read_csv(r'C:\\GIT\\GROUP__3\\DATA\\healthcare-dataset-stroke-data.csv')\n",
    "df.head()"
   ]
  },
  {
   "cell_type": "markdown",
   "id": "02afc7fa",
   "metadata": {},
   "source": [
    "**Giải thích ý nghĩa các cột trong tập dữ liệu**\n",
    "\n",
    "| Tên cột              | Ý nghĩa |\n",
    "|----------------------|--------|\n",
    "| `id`                 | Mã định danh duy nhất của mỗi cá nhân |\n",
    "| `gender`             | Giới tính của cá nhân (`Male`, `Female`, hoặc `Other`) |\n",
    "| `age`                | Tuổi của cá nhân (tính theo năm) |\n",
    "| `hypertension`       | Tăng huyết áp (0 = Không, 1 = Có) |\n",
    "| `heart_disease`      | Bệnh tim (0 = Không, 1 = Có) |\n",
    "| `ever_married`       | Đã từng kết hôn hay chưa (`Yes`, `No`) |\n",
    "| `work_type`          | Loại hình công việc (`Private`, `Self-employed`, `Govt_job`, `children`, `Never_worked`) |\n",
    "| `Residence_type`     | Loại nơi cư trú (`Urban` = thành thị, `Rural` = nông thôn) |\n",
    "| `avg_glucose_level`  | Mức đường huyết trung bình (mg/dL) |\n",
    "| `bmi`                | Chỉ số khối cơ thể (Body Mass Index) |\n",
    "| `smoking_status`     | Tình trạng hút thuốc (`formerly smoked`, `never smoked`, `smokes`, `Unknown`) |\n",
    "| `stroke`             | Đã từng bị đột quỵ hay chưa (0 = Không, 1 = Có) |\n"
   ]
  },
  {
   "cell_type": "markdown",
   "id": "9d42e9be",
   "metadata": {},
   "source": [
    "# 1. PHÂN TÍCH SƠ BỘ DỮ LIỆU"
   ]
  },
  {
   "cell_type": "markdown",
   "id": "12edc8d3",
   "metadata": {},
   "source": [
    "Hiểu cấu trúc dữ liệu"
   ]
  },
  {
   "cell_type": "code",
   "execution_count": 5,
   "id": "d72a3c9b",
   "metadata": {},
   "outputs": [
    {
     "name": "stdout",
     "output_type": "stream",
     "text": [
      "<class 'pandas.core.frame.DataFrame'>\n",
      "RangeIndex: 5110 entries, 0 to 5109\n",
      "Data columns (total 12 columns):\n",
      " #   Column             Non-Null Count  Dtype  \n",
      "---  ------             --------------  -----  \n",
      " 0   id                 5110 non-null   int64  \n",
      " 1   gender             5110 non-null   object \n",
      " 2   age                5110 non-null   float64\n",
      " 3   hypertension       5110 non-null   int64  \n",
      " 4   heart_disease      5110 non-null   int64  \n",
      " 5   ever_married       5110 non-null   object \n",
      " 6   work_type          5110 non-null   object \n",
      " 7   Residence_type     5110 non-null   object \n",
      " 8   avg_glucose_level  5110 non-null   float64\n",
      " 9   bmi                4909 non-null   float64\n",
      " 10  smoking_status     5110 non-null   object \n",
      " 11  stroke             5110 non-null   int64  \n",
      "dtypes: float64(3), int64(4), object(5)\n",
      "memory usage: 479.2+ KB\n",
      "None\n"
     ]
    }
   ],
   "source": [
    "# Liệt kê các cột và xem kiểu dữ liệu \n",
    "print(df.info())"
   ]
  },
  {
   "cell_type": "code",
   "execution_count": 6,
   "id": "10315492",
   "metadata": {},
   "outputs": [
    {
     "name": "stdout",
     "output_type": "stream",
     "text": [
      "                 id          age  hypertension  heart_disease  \\\n",
      "count   5110.000000  5110.000000   5110.000000    5110.000000   \n",
      "mean   36517.829354    43.226614      0.097456       0.054012   \n",
      "std    21161.721625    22.612647      0.296607       0.226063   \n",
      "min       67.000000     0.080000      0.000000       0.000000   \n",
      "25%    17741.250000    25.000000      0.000000       0.000000   \n",
      "50%    36932.000000    45.000000      0.000000       0.000000   \n",
      "75%    54682.000000    61.000000      0.000000       0.000000   \n",
      "max    72940.000000    82.000000      1.000000       1.000000   \n",
      "\n",
      "       avg_glucose_level          bmi       stroke  \n",
      "count        5110.000000  4909.000000  5110.000000  \n",
      "mean          106.147677    28.893237     0.048728  \n",
      "std            45.283560     7.854067     0.215320  \n",
      "min            55.120000    10.300000     0.000000  \n",
      "25%            77.245000    23.500000     0.000000  \n",
      "50%            91.885000    28.100000     0.000000  \n",
      "75%           114.090000    33.100000     0.000000  \n",
      "max           271.740000    97.600000     1.000000  \n"
     ]
    }
   ],
   "source": [
    "# thống kê mô tả bộ dữ liệu dạng số\n",
    "print(df.describe())"
   ]
  },
  {
   "cell_type": "markdown",
   "id": "df4cb072",
   "metadata": {},
   "source": [
    "## Tổng quan thống kê mô tả\n",
    "\n",
    "Bảng thống kê mô tả dưới đây phản ánh các đặc trưng cơ bản của bộ dữ liệu bệnh nhân, bao gồm 7 biến định lượng và 3 biến nhị phân. Dưới đây là phân tích chi tiết:\n",
    "\n",
    "### Biến định danh (id)\n",
    "\n",
    "Không có ý nghĩa phân tích thống kê, được sử dụng để định danh từng cá thể.\n",
    "\n",
    "Phân bố ID trải đều từ 67 đến 72940, không cần xử lý thêm.\n",
    "\n",
    "### Tuổi (age)\n",
    "\n",
    "- Trung bình: 43.23 tuổi  \n",
    "- Độ lệch chuẩn (std): 22.61  \n",
    "- Giá trị nhỏ nhất: 0.08 tuổi (khoảng 1 tháng) — cần kiểm tra xem có phải dữ liệu bất thường không  \n",
    "- Phân vị:\n",
    "  - 25% ≤ 25 tuổi\n",
    "  - 75% ≤ 61 tuổi  \n",
    "  → Phân bố có vẻ lệch phải (phần lớn là người trẻ)\n",
    "\n",
    "### Tăng huyết áp (hypertension) & Bệnh tim (heart_disease)\n",
    "\n",
    "- Là các biến nhị phân (0/1)\n",
    "- Tỷ lệ người bị tăng huyết áp: ~9.75%  \n",
    "- Tỷ lệ người mắc bệnh tim: ~5.4%  \n",
    "→ Tỷ lệ này khá thấp, phân bố mất cân bằng, cần lưu ý nếu xây dựng mô hình học máy\n",
    "\n",
    "### Mức đường huyết trung bình (avg_glucose_level)\n",
    "\n",
    "- Trung bình: 106.15 mg/dL  \n",
    "- Độ lệch chuẩn: 45.28  \n",
    "- Giá trị tối đa: 271.74 — có thể là outlier  \n",
    "- 75% dữ liệu ≤ 114.09  \n",
    "→ Phân bố có dấu hiệu lệch phải, nên chuẩn hóa hoặc biến đổi log nếu dùng trong mô hình\n",
    "\n",
    "### Chỉ số BMI (bmi)\n",
    "\n",
    "- Trung bình: 28.89 — nằm trong ngưỡng tiền béo phì theo chuẩn WHO  \n",
    "- Số lượng quan sát hợp lệ: 4909/5110 → khoảng 3.9% thiếu dữ liệu  \n",
    "- Giá trị tối đa: 97.6 — cao bất thường, khả năng là outlier  \n",
    "→ Cần xử lý missing values và kiểm tra outliers\n",
    "\n",
    "### Đột quỵ (stroke)\n",
    "\n",
    "- Biến mục tiêu nhị phân  \n",
    "- Tỷ lệ đột quỵ: 4.87%  \n",
    "→ Class imbalance nghiêm trọng, cần các kỹ thuật xử lý như oversampling, SMOTE, hoặc điều chỉnh trọng số trong mô hình\n",
    "\n",
    "## Kết luận\n",
    "\n",
    "- **Kiểm tra outliers**: đặc biệt ở các biến `age`, `avg_glucose_level`, `bmi`\n",
    "- **Xử lý missing values**: biến `bmi` cần bổ sung hoặc ước lượng dữ liệu thiếu\n",
    "- **Xử lý class imbalance**: biến mục tiêu `stroke` cần được cân bằng bằng các kỹ thuật phù hợp\n",
    "- **Chuẩn hóa dữ liệu**: nên thực hiện chuẩn hóa hoặc feature scaling với các biến định lượng để đảm bảo hiệu quả mô hình hóa"
   ]
  },
  {
   "cell_type": "code",
   "execution_count": 7,
   "id": "6803cbe1",
   "metadata": {},
   "outputs": [
    {
     "data": {
      "text/html": [
       "<div>\n",
       "<style scoped>\n",
       "    .dataframe tbody tr th:only-of-type {\n",
       "        vertical-align: middle;\n",
       "    }\n",
       "\n",
       "    .dataframe tbody tr th {\n",
       "        vertical-align: top;\n",
       "    }\n",
       "\n",
       "    .dataframe thead th {\n",
       "        text-align: right;\n",
       "    }\n",
       "</style>\n",
       "<table border=\"1\" class=\"dataframe\">\n",
       "  <thead>\n",
       "    <tr style=\"text-align: right;\">\n",
       "      <th></th>\n",
       "      <th>gender</th>\n",
       "      <th>ever_married</th>\n",
       "      <th>work_type</th>\n",
       "      <th>Residence_type</th>\n",
       "      <th>smoking_status</th>\n",
       "    </tr>\n",
       "  </thead>\n",
       "  <tbody>\n",
       "    <tr>\n",
       "      <th>count</th>\n",
       "      <td>5110</td>\n",
       "      <td>5110</td>\n",
       "      <td>5110</td>\n",
       "      <td>5110</td>\n",
       "      <td>5110</td>\n",
       "    </tr>\n",
       "    <tr>\n",
       "      <th>unique</th>\n",
       "      <td>3</td>\n",
       "      <td>2</td>\n",
       "      <td>5</td>\n",
       "      <td>2</td>\n",
       "      <td>4</td>\n",
       "    </tr>\n",
       "    <tr>\n",
       "      <th>top</th>\n",
       "      <td>Female</td>\n",
       "      <td>Yes</td>\n",
       "      <td>Private</td>\n",
       "      <td>Urban</td>\n",
       "      <td>never smoked</td>\n",
       "    </tr>\n",
       "    <tr>\n",
       "      <th>freq</th>\n",
       "      <td>2994</td>\n",
       "      <td>3353</td>\n",
       "      <td>2925</td>\n",
       "      <td>2596</td>\n",
       "      <td>1892</td>\n",
       "    </tr>\n",
       "  </tbody>\n",
       "</table>\n",
       "</div>"
      ],
      "text/plain": [
       "        gender ever_married work_type Residence_type smoking_status\n",
       "count     5110         5110      5110           5110           5110\n",
       "unique       3            2         5              2              4\n",
       "top     Female          Yes   Private          Urban   never smoked\n",
       "freq      2994         3353      2925           2596           1892"
      ]
     },
     "execution_count": 7,
     "metadata": {},
     "output_type": "execute_result"
    }
   ],
   "source": [
    "# thống kê mô tả cho các cột kiểu object\n",
    "df_catogery = df.describe(include=[object])\n",
    "df_catogery"
   ]
  },
  {
   "cell_type": "code",
   "execution_count": 8,
   "id": "874532f7",
   "metadata": {},
   "outputs": [
    {
     "data": {
      "text/plain": [
       "array(['Male', 'Female', 'Other'], dtype=object)"
      ]
     },
     "execution_count": 8,
     "metadata": {},
     "output_type": "execute_result"
    }
   ],
   "source": [
    "df['gender'].unique()"
   ]
  },
  {
   "cell_type": "code",
   "execution_count": 9,
   "id": "581af9fc",
   "metadata": {},
   "outputs": [
    {
     "data": {
      "text/plain": [
       "id                   5110\n",
       "gender                  3\n",
       "age                   104\n",
       "hypertension            2\n",
       "heart_disease           2\n",
       "ever_married            2\n",
       "work_type               5\n",
       "Residence_type          2\n",
       "avg_glucose_level    3979\n",
       "bmi                   418\n",
       "smoking_status          4\n",
       "stroke                  2\n",
       "dtype: int64"
      ]
     },
     "execution_count": 9,
     "metadata": {},
     "output_type": "execute_result"
    }
   ],
   "source": [
    "df.nunique()"
   ]
  },
  {
   "cell_type": "code",
   "execution_count": 10,
   "id": "c1254d2f",
   "metadata": {},
   "outputs": [
    {
     "data": {
      "text/plain": [
       "array(['formerly smoked', 'never smoked', 'smokes', 'Unknown'],\n",
       "      dtype=object)"
      ]
     },
     "execution_count": 10,
     "metadata": {},
     "output_type": "execute_result"
    }
   ],
   "source": [
    "df['smoking_status'].unique()"
   ]
  },
  {
   "cell_type": "code",
   "execution_count": 11,
   "id": "70359094",
   "metadata": {},
   "outputs": [
    {
     "data": {
      "text/html": [
       "<div>\n",
       "<style scoped>\n",
       "    .dataframe tbody tr th:only-of-type {\n",
       "        vertical-align: middle;\n",
       "    }\n",
       "\n",
       "    .dataframe tbody tr th {\n",
       "        vertical-align: top;\n",
       "    }\n",
       "\n",
       "    .dataframe thead th {\n",
       "        text-align: right;\n",
       "    }\n",
       "</style>\n",
       "<table border=\"1\" class=\"dataframe\">\n",
       "  <thead>\n",
       "    <tr style=\"text-align: right;\">\n",
       "      <th></th>\n",
       "      <th>gender</th>\n",
       "      <th>count</th>\n",
       "    </tr>\n",
       "  </thead>\n",
       "  <tbody>\n",
       "    <tr>\n",
       "      <th>0</th>\n",
       "      <td>Female</td>\n",
       "      <td>2994</td>\n",
       "    </tr>\n",
       "    <tr>\n",
       "      <th>1</th>\n",
       "      <td>Male</td>\n",
       "      <td>2115</td>\n",
       "    </tr>\n",
       "    <tr>\n",
       "      <th>2</th>\n",
       "      <td>Other</td>\n",
       "      <td>1</td>\n",
       "    </tr>\n",
       "  </tbody>\n",
       "</table>\n",
       "</div>"
      ],
      "text/plain": [
       "   gender  count\n",
       "0  Female   2994\n",
       "1    Male   2115\n",
       "2   Other      1"
      ]
     },
     "execution_count": 11,
     "metadata": {},
     "output_type": "execute_result"
    }
   ],
   "source": [
    "gender = df['gender'].value_counts().reset_index(name = \"count\")\n",
    "gender"
   ]
  },
  {
   "cell_type": "code",
   "execution_count": 12,
   "id": "0ce99d3e",
   "metadata": {},
   "outputs": [
    {
     "data": {
      "text/html": [
       "<div>\n",
       "<style scoped>\n",
       "    .dataframe tbody tr th:only-of-type {\n",
       "        vertical-align: middle;\n",
       "    }\n",
       "\n",
       "    .dataframe tbody tr th {\n",
       "        vertical-align: top;\n",
       "    }\n",
       "\n",
       "    .dataframe thead th {\n",
       "        text-align: right;\n",
       "    }\n",
       "</style>\n",
       "<table border=\"1\" class=\"dataframe\">\n",
       "  <thead>\n",
       "    <tr style=\"text-align: right;\">\n",
       "      <th></th>\n",
       "      <th>ever_married</th>\n",
       "      <th>Số lượng</th>\n",
       "    </tr>\n",
       "  </thead>\n",
       "  <tbody>\n",
       "    <tr>\n",
       "      <th>0</th>\n",
       "      <td>Yes</td>\n",
       "      <td>3353</td>\n",
       "    </tr>\n",
       "    <tr>\n",
       "      <th>1</th>\n",
       "      <td>No</td>\n",
       "      <td>1757</td>\n",
       "    </tr>\n",
       "  </tbody>\n",
       "</table>\n",
       "</div>"
      ],
      "text/plain": [
       "  ever_married  Số lượng\n",
       "0          Yes      3353\n",
       "1           No      1757"
      ]
     },
     "execution_count": 12,
     "metadata": {},
     "output_type": "execute_result"
    }
   ],
   "source": [
    "ever_married = df['ever_married'].value_counts().reset_index(name = \"Số lượng\")\n",
    "ever_married"
   ]
  },
  {
   "cell_type": "code",
   "execution_count": 13,
   "id": "aae68f11",
   "metadata": {},
   "outputs": [
    {
     "data": {
      "text/html": [
       "<div>\n",
       "<style scoped>\n",
       "    .dataframe tbody tr th:only-of-type {\n",
       "        vertical-align: middle;\n",
       "    }\n",
       "\n",
       "    .dataframe tbody tr th {\n",
       "        vertical-align: top;\n",
       "    }\n",
       "\n",
       "    .dataframe thead th {\n",
       "        text-align: right;\n",
       "    }\n",
       "</style>\n",
       "<table border=\"1\" class=\"dataframe\">\n",
       "  <thead>\n",
       "    <tr style=\"text-align: right;\">\n",
       "      <th></th>\n",
       "      <th>work_type</th>\n",
       "      <th>Số lượng</th>\n",
       "    </tr>\n",
       "  </thead>\n",
       "  <tbody>\n",
       "    <tr>\n",
       "      <th>0</th>\n",
       "      <td>Private</td>\n",
       "      <td>2925</td>\n",
       "    </tr>\n",
       "    <tr>\n",
       "      <th>1</th>\n",
       "      <td>Self-employed</td>\n",
       "      <td>819</td>\n",
       "    </tr>\n",
       "    <tr>\n",
       "      <th>2</th>\n",
       "      <td>children</td>\n",
       "      <td>687</td>\n",
       "    </tr>\n",
       "    <tr>\n",
       "      <th>3</th>\n",
       "      <td>Govt_job</td>\n",
       "      <td>657</td>\n",
       "    </tr>\n",
       "    <tr>\n",
       "      <th>4</th>\n",
       "      <td>Never_worked</td>\n",
       "      <td>22</td>\n",
       "    </tr>\n",
       "  </tbody>\n",
       "</table>\n",
       "</div>"
      ],
      "text/plain": [
       "       work_type  Số lượng\n",
       "0        Private      2925\n",
       "1  Self-employed       819\n",
       "2       children       687\n",
       "3       Govt_job       657\n",
       "4   Never_worked        22"
      ]
     },
     "execution_count": 13,
     "metadata": {},
     "output_type": "execute_result"
    }
   ],
   "source": [
    "work_type = df['work_type'].value_counts().reset_index(name = \"Số lượng\")\n",
    "work_type"
   ]
  },
  {
   "cell_type": "code",
   "execution_count": 14,
   "id": "767cecaa",
   "metadata": {},
   "outputs": [
    {
     "data": {
      "text/html": [
       "<div>\n",
       "<style scoped>\n",
       "    .dataframe tbody tr th:only-of-type {\n",
       "        vertical-align: middle;\n",
       "    }\n",
       "\n",
       "    .dataframe tbody tr th {\n",
       "        vertical-align: top;\n",
       "    }\n",
       "\n",
       "    .dataframe thead th {\n",
       "        text-align: right;\n",
       "    }\n",
       "</style>\n",
       "<table border=\"1\" class=\"dataframe\">\n",
       "  <thead>\n",
       "    <tr style=\"text-align: right;\">\n",
       "      <th></th>\n",
       "      <th>Residence_type</th>\n",
       "      <th>Số lượng</th>\n",
       "    </tr>\n",
       "  </thead>\n",
       "  <tbody>\n",
       "    <tr>\n",
       "      <th>0</th>\n",
       "      <td>Urban</td>\n",
       "      <td>2596</td>\n",
       "    </tr>\n",
       "    <tr>\n",
       "      <th>1</th>\n",
       "      <td>Rural</td>\n",
       "      <td>2514</td>\n",
       "    </tr>\n",
       "  </tbody>\n",
       "</table>\n",
       "</div>"
      ],
      "text/plain": [
       "  Residence_type  Số lượng\n",
       "0          Urban      2596\n",
       "1          Rural      2514"
      ]
     },
     "execution_count": 14,
     "metadata": {},
     "output_type": "execute_result"
    }
   ],
   "source": [
    "Residence_type = df['Residence_type'].value_counts().reset_index(name = \"Số lượng\")\n",
    "Residence_type"
   ]
  },
  {
   "cell_type": "code",
   "execution_count": 15,
   "id": "57c5034e",
   "metadata": {},
   "outputs": [
    {
     "data": {
      "text/html": [
       "<div>\n",
       "<style scoped>\n",
       "    .dataframe tbody tr th:only-of-type {\n",
       "        vertical-align: middle;\n",
       "    }\n",
       "\n",
       "    .dataframe tbody tr th {\n",
       "        vertical-align: top;\n",
       "    }\n",
       "\n",
       "    .dataframe thead th {\n",
       "        text-align: right;\n",
       "    }\n",
       "</style>\n",
       "<table border=\"1\" class=\"dataframe\">\n",
       "  <thead>\n",
       "    <tr style=\"text-align: right;\">\n",
       "      <th></th>\n",
       "      <th>smoking_status</th>\n",
       "      <th>Số lượng</th>\n",
       "    </tr>\n",
       "  </thead>\n",
       "  <tbody>\n",
       "    <tr>\n",
       "      <th>0</th>\n",
       "      <td>never smoked</td>\n",
       "      <td>1892</td>\n",
       "    </tr>\n",
       "    <tr>\n",
       "      <th>1</th>\n",
       "      <td>Unknown</td>\n",
       "      <td>1544</td>\n",
       "    </tr>\n",
       "    <tr>\n",
       "      <th>2</th>\n",
       "      <td>formerly smoked</td>\n",
       "      <td>885</td>\n",
       "    </tr>\n",
       "    <tr>\n",
       "      <th>3</th>\n",
       "      <td>smokes</td>\n",
       "      <td>789</td>\n",
       "    </tr>\n",
       "  </tbody>\n",
       "</table>\n",
       "</div>"
      ],
      "text/plain": [
       "    smoking_status  Số lượng\n",
       "0     never smoked      1892\n",
       "1          Unknown      1544\n",
       "2  formerly smoked       885\n",
       "3           smokes       789"
      ]
     },
     "execution_count": 15,
     "metadata": {},
     "output_type": "execute_result"
    }
   ],
   "source": [
    "smoking_status = df['smoking_status'].value_counts().reset_index(name = \"Số lượng\")\n",
    "smoking_status"
   ]
  },
  {
   "cell_type": "code",
   "execution_count": 29,
   "id": "a000cffb",
   "metadata": {},
   "outputs": [
    {
     "data": {
      "text/html": [
       "<div>\n",
       "<style scoped>\n",
       "    .dataframe tbody tr th:only-of-type {\n",
       "        vertical-align: middle;\n",
       "    }\n",
       "\n",
       "    .dataframe tbody tr th {\n",
       "        vertical-align: top;\n",
       "    }\n",
       "\n",
       "    .dataframe thead th {\n",
       "        text-align: right;\n",
       "    }\n",
       "</style>\n",
       "<table border=\"1\" class=\"dataframe\">\n",
       "  <thead>\n",
       "    <tr style=\"text-align: right;\">\n",
       "      <th></th>\n",
       "      <th>id</th>\n",
       "      <th>gender</th>\n",
       "      <th>age</th>\n",
       "      <th>hypertension</th>\n",
       "      <th>heart_disease</th>\n",
       "      <th>ever_married</th>\n",
       "      <th>work_type</th>\n",
       "      <th>Residence_type</th>\n",
       "      <th>avg_glucose_level</th>\n",
       "      <th>bmi</th>\n",
       "      <th>smoking_status</th>\n",
       "      <th>stroke</th>\n",
       "    </tr>\n",
       "  </thead>\n",
       "  <tbody>\n",
       "    <tr>\n",
       "      <th>0</th>\n",
       "      <td>9046</td>\n",
       "      <td>Male</td>\n",
       "      <td>67.0</td>\n",
       "      <td>0</td>\n",
       "      <td>1</td>\n",
       "      <td>Yes</td>\n",
       "      <td>Private</td>\n",
       "      <td>Urban</td>\n",
       "      <td>228.69</td>\n",
       "      <td>36.6</td>\n",
       "      <td>formerly smoked</td>\n",
       "      <td>1</td>\n",
       "    </tr>\n",
       "    <tr>\n",
       "      <th>1</th>\n",
       "      <td>51676</td>\n",
       "      <td>Female</td>\n",
       "      <td>61.0</td>\n",
       "      <td>0</td>\n",
       "      <td>0</td>\n",
       "      <td>Yes</td>\n",
       "      <td>Self-employed</td>\n",
       "      <td>Rural</td>\n",
       "      <td>202.21</td>\n",
       "      <td>NaN</td>\n",
       "      <td>never smoked</td>\n",
       "      <td>1</td>\n",
       "    </tr>\n",
       "    <tr>\n",
       "      <th>2</th>\n",
       "      <td>31112</td>\n",
       "      <td>Male</td>\n",
       "      <td>80.0</td>\n",
       "      <td>0</td>\n",
       "      <td>1</td>\n",
       "      <td>Yes</td>\n",
       "      <td>Private</td>\n",
       "      <td>Rural</td>\n",
       "      <td>105.92</td>\n",
       "      <td>32.5</td>\n",
       "      <td>never smoked</td>\n",
       "      <td>1</td>\n",
       "    </tr>\n",
       "    <tr>\n",
       "      <th>3</th>\n",
       "      <td>60182</td>\n",
       "      <td>Female</td>\n",
       "      <td>49.0</td>\n",
       "      <td>0</td>\n",
       "      <td>0</td>\n",
       "      <td>Yes</td>\n",
       "      <td>Private</td>\n",
       "      <td>Urban</td>\n",
       "      <td>171.23</td>\n",
       "      <td>34.4</td>\n",
       "      <td>smokes</td>\n",
       "      <td>1</td>\n",
       "    </tr>\n",
       "    <tr>\n",
       "      <th>4</th>\n",
       "      <td>1665</td>\n",
       "      <td>Female</td>\n",
       "      <td>79.0</td>\n",
       "      <td>1</td>\n",
       "      <td>0</td>\n",
       "      <td>Yes</td>\n",
       "      <td>Self-employed</td>\n",
       "      <td>Rural</td>\n",
       "      <td>174.12</td>\n",
       "      <td>24.0</td>\n",
       "      <td>never smoked</td>\n",
       "      <td>1</td>\n",
       "    </tr>\n",
       "    <tr>\n",
       "      <th>5</th>\n",
       "      <td>56669</td>\n",
       "      <td>Male</td>\n",
       "      <td>81.0</td>\n",
       "      <td>0</td>\n",
       "      <td>0</td>\n",
       "      <td>Yes</td>\n",
       "      <td>Private</td>\n",
       "      <td>Urban</td>\n",
       "      <td>186.21</td>\n",
       "      <td>29.0</td>\n",
       "      <td>formerly smoked</td>\n",
       "      <td>1</td>\n",
       "    </tr>\n",
       "    <tr>\n",
       "      <th>6</th>\n",
       "      <td>53882</td>\n",
       "      <td>Male</td>\n",
       "      <td>74.0</td>\n",
       "      <td>1</td>\n",
       "      <td>1</td>\n",
       "      <td>Yes</td>\n",
       "      <td>Private</td>\n",
       "      <td>Rural</td>\n",
       "      <td>70.09</td>\n",
       "      <td>27.4</td>\n",
       "      <td>never smoked</td>\n",
       "      <td>1</td>\n",
       "    </tr>\n",
       "    <tr>\n",
       "      <th>7</th>\n",
       "      <td>10434</td>\n",
       "      <td>Female</td>\n",
       "      <td>69.0</td>\n",
       "      <td>0</td>\n",
       "      <td>0</td>\n",
       "      <td>No</td>\n",
       "      <td>Private</td>\n",
       "      <td>Urban</td>\n",
       "      <td>94.39</td>\n",
       "      <td>22.8</td>\n",
       "      <td>never smoked</td>\n",
       "      <td>1</td>\n",
       "    </tr>\n",
       "    <tr>\n",
       "      <th>8</th>\n",
       "      <td>27419</td>\n",
       "      <td>Female</td>\n",
       "      <td>59.0</td>\n",
       "      <td>0</td>\n",
       "      <td>0</td>\n",
       "      <td>Yes</td>\n",
       "      <td>Private</td>\n",
       "      <td>Rural</td>\n",
       "      <td>76.15</td>\n",
       "      <td>NaN</td>\n",
       "      <td>Unknown</td>\n",
       "      <td>1</td>\n",
       "    </tr>\n",
       "    <tr>\n",
       "      <th>9</th>\n",
       "      <td>60491</td>\n",
       "      <td>Female</td>\n",
       "      <td>78.0</td>\n",
       "      <td>0</td>\n",
       "      <td>0</td>\n",
       "      <td>Yes</td>\n",
       "      <td>Private</td>\n",
       "      <td>Urban</td>\n",
       "      <td>58.57</td>\n",
       "      <td>24.2</td>\n",
       "      <td>Unknown</td>\n",
       "      <td>1</td>\n",
       "    </tr>\n",
       "  </tbody>\n",
       "</table>\n",
       "</div>"
      ],
      "text/plain": [
       "      id  gender   age  hypertension  heart_disease ever_married  \\\n",
       "0   9046    Male  67.0             0              1          Yes   \n",
       "1  51676  Female  61.0             0              0          Yes   \n",
       "2  31112    Male  80.0             0              1          Yes   \n",
       "3  60182  Female  49.0             0              0          Yes   \n",
       "4   1665  Female  79.0             1              0          Yes   \n",
       "5  56669    Male  81.0             0              0          Yes   \n",
       "6  53882    Male  74.0             1              1          Yes   \n",
       "7  10434  Female  69.0             0              0           No   \n",
       "8  27419  Female  59.0             0              0          Yes   \n",
       "9  60491  Female  78.0             0              0          Yes   \n",
       "\n",
       "       work_type Residence_type  avg_glucose_level   bmi   smoking_status  \\\n",
       "0        Private          Urban             228.69  36.6  formerly smoked   \n",
       "1  Self-employed          Rural             202.21   NaN     never smoked   \n",
       "2        Private          Rural             105.92  32.5     never smoked   \n",
       "3        Private          Urban             171.23  34.4           smokes   \n",
       "4  Self-employed          Rural             174.12  24.0     never smoked   \n",
       "5        Private          Urban             186.21  29.0  formerly smoked   \n",
       "6        Private          Rural              70.09  27.4     never smoked   \n",
       "7        Private          Urban              94.39  22.8     never smoked   \n",
       "8        Private          Rural              76.15   NaN          Unknown   \n",
       "9        Private          Urban              58.57  24.2          Unknown   \n",
       "\n",
       "   stroke  \n",
       "0       1  \n",
       "1       1  \n",
       "2       1  \n",
       "3       1  \n",
       "4       1  \n",
       "5       1  \n",
       "6       1  \n",
       "7       1  \n",
       "8       1  \n",
       "9       1  "
      ]
     },
     "execution_count": 29,
     "metadata": {},
     "output_type": "execute_result"
    }
   ],
   "source": [
    "# lọc lấy nhữung người trên 18 tuổi\n",
    "df_18 = df.copy()\n",
    "df_18 = df_18[df_18['age'] > 18]\n",
    "df_18.head(10)"
   ]
  },
  {
   "cell_type": "code",
   "execution_count": 32,
   "id": "49c78b5a",
   "metadata": {},
   "outputs": [
    {
     "data": {
      "text/plain": [
       "(4194, 12)"
      ]
     },
     "execution_count": 32,
     "metadata": {},
     "output_type": "execute_result"
    }
   ],
   "source": [
    "df_18.shape"
   ]
  },
  {
   "cell_type": "code",
   "execution_count": 40,
   "id": "9ba8de33",
   "metadata": {},
   "outputs": [],
   "source": [
    "# ép cột 'age' từ float sang int\n",
    "df['age'] = df['age'].astype(int)"
   ]
  },
  {
   "cell_type": "code",
   "execution_count": 42,
   "id": "2dbf39b6",
   "metadata": {},
   "outputs": [
    {
     "data": {
      "text/plain": [
       "83"
      ]
     },
     "execution_count": 42,
     "metadata": {},
     "output_type": "execute_result"
    }
   ],
   "source": [
    "df['age'].nunique()"
   ]
  },
  {
   "cell_type": "code",
   "execution_count": 30,
   "id": "4d0599ef",
   "metadata": {},
   "outputs": [
    {
     "data": {
      "text/html": [
       "<div>\n",
       "<style scoped>\n",
       "    .dataframe tbody tr th:only-of-type {\n",
       "        vertical-align: middle;\n",
       "    }\n",
       "\n",
       "    .dataframe tbody tr th {\n",
       "        vertical-align: top;\n",
       "    }\n",
       "\n",
       "    .dataframe thead th {\n",
       "        text-align: right;\n",
       "    }\n",
       "</style>\n",
       "<table border=\"1\" class=\"dataframe\">\n",
       "  <thead>\n",
       "    <tr style=\"text-align: right;\">\n",
       "      <th></th>\n",
       "      <th>age</th>\n",
       "      <th>smoking_status</th>\n",
       "      <th>count</th>\n",
       "    </tr>\n",
       "  </thead>\n",
       "  <tbody>\n",
       "    <tr>\n",
       "      <th>252</th>\n",
       "      <td>82.0</td>\n",
       "      <td>Unknown</td>\n",
       "      <td>9</td>\n",
       "    </tr>\n",
       "    <tr>\n",
       "      <th>253</th>\n",
       "      <td>82.0</td>\n",
       "      <td>formerly smoked</td>\n",
       "      <td>19</td>\n",
       "    </tr>\n",
       "    <tr>\n",
       "      <th>254</th>\n",
       "      <td>82.0</td>\n",
       "      <td>never smoked</td>\n",
       "      <td>22</td>\n",
       "    </tr>\n",
       "    <tr>\n",
       "      <th>255</th>\n",
       "      <td>82.0</td>\n",
       "      <td>smokes</td>\n",
       "      <td>6</td>\n",
       "    </tr>\n",
       "    <tr>\n",
       "      <th>248</th>\n",
       "      <td>81.0</td>\n",
       "      <td>Unknown</td>\n",
       "      <td>13</td>\n",
       "    </tr>\n",
       "    <tr>\n",
       "      <th>249</th>\n",
       "      <td>81.0</td>\n",
       "      <td>formerly smoked</td>\n",
       "      <td>12</td>\n",
       "    </tr>\n",
       "    <tr>\n",
       "      <th>250</th>\n",
       "      <td>81.0</td>\n",
       "      <td>never smoked</td>\n",
       "      <td>30</td>\n",
       "    </tr>\n",
       "    <tr>\n",
       "      <th>251</th>\n",
       "      <td>81.0</td>\n",
       "      <td>smokes</td>\n",
       "      <td>5</td>\n",
       "    </tr>\n",
       "    <tr>\n",
       "      <th>244</th>\n",
       "      <td>80.0</td>\n",
       "      <td>Unknown</td>\n",
       "      <td>13</td>\n",
       "    </tr>\n",
       "    <tr>\n",
       "      <th>245</th>\n",
       "      <td>80.0</td>\n",
       "      <td>formerly smoked</td>\n",
       "      <td>17</td>\n",
       "    </tr>\n",
       "    <tr>\n",
       "      <th>246</th>\n",
       "      <td>80.0</td>\n",
       "      <td>never smoked</td>\n",
       "      <td>33</td>\n",
       "    </tr>\n",
       "    <tr>\n",
       "      <th>247</th>\n",
       "      <td>80.0</td>\n",
       "      <td>smokes</td>\n",
       "      <td>7</td>\n",
       "    </tr>\n",
       "    <tr>\n",
       "      <th>240</th>\n",
       "      <td>79.0</td>\n",
       "      <td>Unknown</td>\n",
       "      <td>17</td>\n",
       "    </tr>\n",
       "    <tr>\n",
       "      <th>241</th>\n",
       "      <td>79.0</td>\n",
       "      <td>formerly smoked</td>\n",
       "      <td>20</td>\n",
       "    </tr>\n",
       "    <tr>\n",
       "      <th>242</th>\n",
       "      <td>79.0</td>\n",
       "      <td>never smoked</td>\n",
       "      <td>39</td>\n",
       "    </tr>\n",
       "    <tr>\n",
       "      <th>243</th>\n",
       "      <td>79.0</td>\n",
       "      <td>smokes</td>\n",
       "      <td>9</td>\n",
       "    </tr>\n",
       "    <tr>\n",
       "      <th>236</th>\n",
       "      <td>78.0</td>\n",
       "      <td>Unknown</td>\n",
       "      <td>25</td>\n",
       "    </tr>\n",
       "    <tr>\n",
       "      <th>237</th>\n",
       "      <td>78.0</td>\n",
       "      <td>formerly smoked</td>\n",
       "      <td>31</td>\n",
       "    </tr>\n",
       "    <tr>\n",
       "      <th>238</th>\n",
       "      <td>78.0</td>\n",
       "      <td>never smoked</td>\n",
       "      <td>39</td>\n",
       "    </tr>\n",
       "    <tr>\n",
       "      <th>239</th>\n",
       "      <td>78.0</td>\n",
       "      <td>smokes</td>\n",
       "      <td>7</td>\n",
       "    </tr>\n",
       "  </tbody>\n",
       "</table>\n",
       "</div>"
      ],
      "text/plain": [
       "      age   smoking_status  count\n",
       "252  82.0          Unknown      9\n",
       "253  82.0  formerly smoked     19\n",
       "254  82.0     never smoked     22\n",
       "255  82.0           smokes      6\n",
       "248  81.0          Unknown     13\n",
       "249  81.0  formerly smoked     12\n",
       "250  81.0     never smoked     30\n",
       "251  81.0           smokes      5\n",
       "244  80.0          Unknown     13\n",
       "245  80.0  formerly smoked     17\n",
       "246  80.0     never smoked     33\n",
       "247  80.0           smokes      7\n",
       "240  79.0          Unknown     17\n",
       "241  79.0  formerly smoked     20\n",
       "242  79.0     never smoked     39\n",
       "243  79.0           smokes      9\n",
       "236  78.0          Unknown     25\n",
       "237  78.0  formerly smoked     31\n",
       "238  78.0     never smoked     39\n",
       "239  78.0           smokes      7"
      ]
     },
     "execution_count": 30,
     "metadata": {},
     "output_type": "execute_result"
    }
   ],
   "source": [
    "# Tính phân phối giữa 2 cột 'age' và 'smoking_status'\n",
    "# nhóm tuổi và tình trạng hút thuốc\n",
    "age_smoking = df_18.groupby(['age', 'smoking_status']).size().reset_index(name='count')\n",
    "age_smoking.sort_values(by='age', inplace=True, ascending = False)\n",
    "age_smoking.head(20)"
   ]
  },
  {
   "cell_type": "code",
   "execution_count": null,
   "id": "6e963c19",
   "metadata": {},
   "outputs": [],
   "source": [
    "# Tạo bins tuổi\n",
    "bins = [0, 18, 50, 82]\n",
    "labels = ['child', 'adult', 'senior']\n",
    "\n",
    "df_known = df[df['smoking_status'] != 'Unknown'].copy()\n",
    "df_known['age_bin'] = pd.cut(df_known['age'], bins=bins, labels=labels, right=True)\n",
    "\n",
    "# Xem phân bố từng nhóm trong mỗi age bin\n",
    "pd.crosstab(df_known['age_bin'], df_known['smoking_status'], normalize='index') * 100\n",
    "\n",
    "# Tạo age_bin cho nhóm Unknown\n",
    "df_unknown = df[df['smoking_status'] == 'Unknown'].copy()\n",
    "df_unknown['age_bin'] = pd.cut(df_unknown['age'], bins=bins, labels=labels, right=True)\n",
    "\n",
    "import numpy as np\n",
    "\n",
    "def assign_smoking_status(row):\n",
    "    age_bin = row['age_bin']\n",
    "    if age_bin == 'child':\n",
    "        return np.random.choice(['never smoked', 'smokes', 'formerly smoked'], p=[0.95, 0.04, 0.01])\n",
    "    elif age_bin == 'adult':\n",
    "        return np.random.choice(['never smoked', 'smokes', 'formerly smoked'], p=[0.35, 0.5, 0.15])\n",
    "    elif age_bin == 'senior':\n",
    "        return np.random.choice(['never smoked', 'smokes', 'formerly smoked'], p=[0.2, 0.1, 0.7])\n",
    "    else:\n",
    "        return 'never smoked'  # fallback\n",
    "\n",
    "# Áp dụng gán\n",
    "df_unknown['smoking_status_imputed'] = df_unknown.apply(assign_smoking_status, axis=1)"
   ]
  },
  {
   "cell_type": "code",
   "execution_count": null,
   "id": "9b10c01d",
   "metadata": {},
   "outputs": [],
   "source": [
    "# Cập nhật giá trị suy đoán\n",
    "df.loc[df['smoking_status'] == 'Unknown', 'smoking_status'] = df_unknown['smoking_status_imputed']\n"
   ]
  },
  {
   "cell_type": "code",
   "execution_count": 49,
   "id": "1ab7cd27",
   "metadata": {},
   "outputs": [
    {
     "data": {
      "text/html": [
       "<div>\n",
       "<style scoped>\n",
       "    .dataframe tbody tr th:only-of-type {\n",
       "        vertical-align: middle;\n",
       "    }\n",
       "\n",
       "    .dataframe tbody tr th {\n",
       "        vertical-align: top;\n",
       "    }\n",
       "\n",
       "    .dataframe thead th {\n",
       "        text-align: right;\n",
       "    }\n",
       "</style>\n",
       "<table border=\"1\" class=\"dataframe\">\n",
       "  <thead>\n",
       "    <tr style=\"text-align: right;\">\n",
       "      <th></th>\n",
       "      <th>smoking_status</th>\n",
       "      <th>Số lượng</th>\n",
       "    </tr>\n",
       "  </thead>\n",
       "  <tbody>\n",
       "    <tr>\n",
       "      <th>0</th>\n",
       "      <td>never smoked</td>\n",
       "      <td>2794</td>\n",
       "    </tr>\n",
       "    <tr>\n",
       "      <th>1</th>\n",
       "      <td>formerly smoked</td>\n",
       "      <td>1256</td>\n",
       "    </tr>\n",
       "    <tr>\n",
       "      <th>2</th>\n",
       "      <td>smokes</td>\n",
       "      <td>1060</td>\n",
       "    </tr>\n",
       "  </tbody>\n",
       "</table>\n",
       "</div>"
      ],
      "text/plain": [
       "    smoking_status  Số lượng\n",
       "0     never smoked      2794\n",
       "1  formerly smoked      1256\n",
       "2           smokes      1060"
      ]
     },
     "execution_count": 49,
     "metadata": {},
     "output_type": "execute_result"
    }
   ],
   "source": [
    "smoking_status = df['smoking_status'].value_counts().reset_index(name='Số lượng')\n",
    "\n",
    "smoking_status"
   ]
  },
  {
   "cell_type": "code",
   "execution_count": 55,
   "id": "ee89f380",
   "metadata": {},
   "outputs": [
    {
     "data": {
      "text/plain": [
       "array(['formerly smoked', 'never smoked', 'smokes', 'Unknown'],\n",
       "      dtype=object)"
      ]
     },
     "execution_count": 55,
     "metadata": {},
     "output_type": "execute_result"
    }
   ],
   "source": [
    "df['smoking_status'].unique()"
   ]
  },
  {
   "cell_type": "markdown",
   "id": "dd4cae55",
   "metadata": {},
   "source": [
    "Phân tích giá trị thiếu"
   ]
  },
  {
   "cell_type": "code",
   "execution_count": 16,
   "id": "a941bb6b",
   "metadata": {},
   "outputs": [
    {
     "data": {
      "text/plain": [
       "id                     0\n",
       "gender                 0\n",
       "age                    0\n",
       "hypertension           0\n",
       "heart_disease          0\n",
       "ever_married           0\n",
       "work_type              0\n",
       "Residence_type         0\n",
       "avg_glucose_level      0\n",
       "bmi                  201\n",
       "smoking_status         0\n",
       "stroke                 0\n",
       "dtype: int64"
      ]
     },
     "execution_count": 16,
     "metadata": {},
     "output_type": "execute_result"
    }
   ],
   "source": [
    "# kiểm tra giá trị thiếu\n",
    "df.isnull().sum()"
   ]
  },
  {
   "cell_type": "markdown",
   "id": "fda36a5d",
   "metadata": {},
   "source": [
    "Hầu hết các trường đều không thiếu chỉ có cột bmi là thiếu 201 giá trị tương ứng với khoảng 4% so với tổng thể."
   ]
  },
  {
   "cell_type": "code",
   "execution_count": null,
   "id": "735d6cc1",
   "metadata": {},
   "outputs": [],
   "source": [
    "# tính tỷ lệ phần trăm thiếu\n",
    "missing = df.isnull().mean() * 100\n",
    "missing"
   ]
  },
  {
   "cell_type": "code",
   "execution_count": null,
   "id": "98c0954d",
   "metadata": {},
   "outputs": [],
   "source": [
    "# Visualize giá trị thiếu bằng biểu đồ\n",
    "import matplotlib.pyplot as plt\n",
    "import seaborn as sns\n",
    "plt.figure(figsize=(12, 6))\n",
    "sns.barplot(x=missing.index, y=missing.values)\n",
    "plt.title('Tỷ lệ phần trăm giá trị thiếu trong các cột')\n",
    "plt.xlabel('Cột')\n",
    "plt.ylabel('Tỷ lệ phần trăm (%)')\n",
    "plt.xticks(rotation=30)\n",
    "plt.show()"
   ]
  },
  {
   "cell_type": "markdown",
   "id": "f34ab520",
   "metadata": {},
   "source": [
    "Phân tích giá trị ngoại lai"
   ]
  },
  {
   "cell_type": "code",
   "execution_count": null,
   "id": "95bcab68",
   "metadata": {},
   "outputs": [],
   "source": [
    "# Lọc các cột số\n",
    "numeric_cols = df.select_dtypes(include=['float64', 'int64']).columns\n",
    "\n",
    "# Hàm xác định outliers theo IQR\n",
    "def detect_outliers_iqr(df, cols):\n",
    "    outlier_dict = {}\n",
    "    for col in cols:\n",
    "        Q1 = df[col].quantile(0.25)\n",
    "        Q3 = df[col].quantile(0.75)\n",
    "        IQR = Q3 - Q1\n",
    "        lower_bound = Q1 - 1.5 * IQR\n",
    "        upper_bound = Q3 + 1.5 * IQR\n",
    "        outliers = df[(df[col] < lower_bound) | (df[col] > upper_bound)]\n",
    "        outlier_dict[col] = {\n",
    "            \"số_lượng_ngoại_lai\": outliers.shape[0],\n",
    "            \"tỷ_lệ_ngoại_lai\": round(100 * outliers.shape[0] / df.shape[0], 2)\n",
    "        }\n",
    "    return pd.DataFrame(outlier_dict).T\n",
    "\n",
    "# Áp dụng\n",
    "outlier_summary = detect_outliers_iqr(df, numeric_cols)\n",
    "print(outlier_summary)"
   ]
  },
  {
   "cell_type": "code",
   "execution_count": null,
   "id": "231af2a5",
   "metadata": {},
   "outputs": [],
   "source": [
    "plt.figure(figsize=(10, 6))\n",
    "sns.barplot(\n",
    "    x=outlier_summary.index,\n",
    "    y='tỷ_lệ_ngoại_lai',\n",
    "    data=outlier_summary,\n",
    "    palette='Blues_r'\n",
    ")\n",
    "plt.xticks(rotation=45)\n",
    "plt.title('Tỷ lệ phần trăm giá trị ngoại lai theo từng cột số')\n",
    "plt.ylabel('Tỷ lệ ngoại lai (%)')\n",
    "plt.xlabel('Tên cột')\n",
    "plt.tight_layout()\n",
    "plt.show()"
   ]
  },
  {
   "cell_type": "markdown",
   "id": "45cf30c5",
   "metadata": {},
   "source": [
    "Phân tích mối quan hệ giữa các biến"
   ]
  },
  {
   "cell_type": "code",
   "execution_count": null,
   "id": "de1771ed",
   "metadata": {},
   "outputs": [],
   "source": [
    "# Tính hệ số tương quan Pearson giữa các cột số\n",
    "correlation_matrix = df[numeric_cols].corr(method='pearson')\n",
    "\n",
    "plt.figure(figsize=(10, 8))\n",
    "sns.heatmap(\n",
    "    correlation_matrix,\n",
    "    annot=True,             # hiển thị giá trị số\n",
    "    fmt=\".2f\",              # định dạng số\n",
    "    cmap='coolwarm',        # màu sắc\n",
    "    linewidths=0.5,\n",
    "    square=True,\n",
    "    cbar_kws={\"shrink\": .75}\n",
    ")\n",
    "plt.title(\"Ma trận tương quan giữa các biến số\", fontsize=14)\n",
    "plt.xticks(rotation=45)\n",
    "plt.yticks(rotation=0)\n",
    "plt.tight_layout()\n",
    "plt.show()"
   ]
  },
  {
   "cell_type": "markdown",
   "id": "0e591bc5",
   "metadata": {},
   "source": [
    "## Phân tích Ma trận Tương quan\n",
    "\n",
    "### Tổng quan\n",
    "\n",
    "Ma trận thể hiện hệ số tương quan Pearson giữa các biến định lượng và nhị phân. Giá trị dao động từ -1 đến 1, trong đó:\n",
    "\n",
    "- +1: tương quan tuyến tính dương hoàn hảo  \n",
    "- 0: không có tương quan tuyến tính  \n",
    "- -1: tương quan tuyến tính âm hoàn hảo  \n",
    "\n",
    "### Những phát hiện chính\n",
    "\n",
    "#### Tương quan với biến mục tiêu (`stroke`)\n",
    "\n",
    "Mọi biến đều có tương quan rất yếu với `stroke`:\n",
    "\n",
    "- `age`: 0.25 → tương quan dương nhẹ, người lớn tuổi dễ bị đột quỵ hơn  \n",
    "- `hypertension`, `heart_disease`, `avg_glucose_level`: khoảng 0.13 → có ý nghĩa lâm sàng nhưng rất yếu về mặt thống kê tuyến tính  \n",
    "- `bmi`: 0.04 → gần như không liên quan\n",
    "\n",
    "**Nhận định**: Biến mục tiêu `stroke` không có mối liên hệ tuyến tính mạnh với bất kỳ biến nào.  \n",
    "→ Cần áp dụng mô hình phi tuyến (như tree-based models, XGBoost) hoặc phân tích thêm các mối liên hệ phi tuyến (mutual information, ANOVA,...)\n",
    "\n",
    "#### Tương quan giữa các biến độc lập\n",
    "\n",
    "- `age` có tương quan nhẹ với:\n",
    "  - `bmi`: 0.33  \n",
    "  - `hypertension`: 0.28  \n",
    "  - `heart_disease`: 0.26  \n",
    "  - `avg_glucose_level`: 0.24  \n",
    "\n",
    "Những mối quan hệ này phản ánh đặc điểm thực tế: tuổi cao thường đi kèm với nguy cơ tăng huyết áp, bệnh tim, béo phì và đường huyết cao.\n",
    "\n",
    "- Tương quan giữa `hypertension`, `heart_disease`, `avg_glucose_level` đều < 0.2  \n",
    "→ Các biến tương đối độc lập với nhau, thuận lợi cho mô hình hóa do ít đa cộng tuyến\n",
    "\n",
    "#### Biến không mang ý nghĩa phân tích\n",
    "\n",
    "- `id` có tương quan gần như bằng 0 với mọi biến  \n",
    "→ Là biến định danh, nên loại bỏ khỏi quá trình phân tích\n",
    "\n",
    "### Kết luận và Khuyến nghị\n",
    "\n",
    "- Không có biến nào có tương quan tuyến tính mạnh với `stroke`  \n",
    "→ Cần tiếp cận đa chiều hơn, sử dụng các kỹ thuật khai thác đặc trưng phi tuyến hoặc kết hợp nhiều đặc trưng\n",
    "\n",
    "- Không có dấu hiệu đa cộng tuyến nghiêm trọng giữa các biến độc lập  \n",
    "→ Thuận lợi cho việc xây dựng mô hình tuyến tính\n",
    "\n",
    "### Đề xuất\n",
    "\n",
    "- Khám phá thêm các mối quan hệ phi tuyến hoặc tương tác biến  \n",
    "- Áp dụng phương pháp chọn biến (feature selection) như:\n",
    "  - RFE (Recursive Feature Elimination)  \n",
    "  - `mutual_info_classif`  \n",
    "  - Mô hình Random Forest và đánh giá `feature_importance`\n"
   ]
  },
  {
   "cell_type": "markdown",
   "id": "ca56de68",
   "metadata": {},
   "source": [
    "Phân tích biến mục tiêu"
   ]
  },
  {
   "cell_type": "code",
   "execution_count": null,
   "id": "39b91f9b",
   "metadata": {},
   "outputs": [],
   "source": [
    "stroke = df['stroke'].value_counts().reset_index(name = \"Số lượng\")\n",
    "stroke"
   ]
  },
  {
   "cell_type": "code",
   "execution_count": null,
   "id": "9229afd4",
   "metadata": {},
   "outputs": [],
   "source": [
    "plt.figure(figsize=(8, 5))\n",
    "sns.countplot(x='stroke', data=df, palette='Set2')\n",
    "plt.title('Số lượng bệnh nhân bị đột quỵ và không bị đột quỵ')\n",
    "plt.xlabel('Bị đột quỵ (1) / Không bị đột quỵ (0)')\n",
    "plt.ylabel('Số lượng')\n",
    "plt.xticks([0, 1], ['Không bị đột quỵ', 'Bị đột quỵ'])\n",
    "plt.show()"
   ]
  },
  {
   "cell_type": "markdown",
   "id": "324de1c6",
   "metadata": {},
   "source": [
    "Kiểm tra giá trị trùng lặp"
   ]
  },
  {
   "cell_type": "code",
   "execution_count": null,
   "id": "578a7ebb",
   "metadata": {},
   "outputs": [],
   "source": [
    "# kiểm tra trùng lặp \n",
    "duplicates = df.duplicated().sum()\n",
    "print(f'Số lượng dòng trùng lặp: {duplicates}')"
   ]
  },
  {
   "cell_type": "markdown",
   "id": "6c328c93",
   "metadata": {},
   "source": [
    "# XỬ LÝ DỮ LIỆU"
   ]
  },
  {
   "cell_type": "markdown",
   "id": "13e84e0f",
   "metadata": {},
   "source": [
    "TIỀN XỬ LÝ DỮ LIỆU"
   ]
  },
  {
   "cell_type": "code",
   "execution_count": null,
   "id": "af8fa36d",
   "metadata": {},
   "outputs": [],
   "source": [
    "# điền giá trị thiếu cho cột 'bmi'\n",
    "df['bmi'].fillna(df['bmi'].mean(), inplace=True)"
   ]
  },
  {
   "cell_type": "code",
   "execution_count": null,
   "id": "f265a93e",
   "metadata": {},
   "outputs": [],
   "source": [
    "df.isnull().sum()"
   ]
  },
  {
   "cell_type": "code",
   "execution_count": null,
   "id": "52d6be91",
   "metadata": {},
   "outputs": [],
   "source": [
    "# xóa cột id vì không có ý nghĩa trong phân tích\n",
    "df.drop(columns=['id'], inplace=True)"
   ]
  },
  {
   "cell_type": "code",
   "execution_count": null,
   "id": "1bd5a9dc",
   "metadata": {},
   "outputs": [],
   "source": [
    "df.head()"
   ]
  },
  {
   "cell_type": "code",
   "execution_count": null,
   "id": "043e54b2",
   "metadata": {},
   "outputs": [],
   "source": [
    "# xử lý giá trị ngoại lai\n",
    "'''Các cột như hypertension, heart_disease, stroke là biến nhị phân (0 hoặc 1) → không nên xử lý ngoại lai bằng IQR vì 1 là giá trị hợp lệ.'''"
   ]
  },
  {
   "cell_type": "code",
   "execution_count": null,
   "id": "fcfb417d",
   "metadata": {},
   "outputs": [],
   "source": [
    "def log_clip_column(df, col):\n",
    "    # Log transform\n",
    "    log_col = np.log1p(df[col])\n",
    "    \n",
    "    # Tính IQR trên biến log\n",
    "    Q1 = log_col.quantile(0.25)\n",
    "    Q3 = log_col.quantile(0.75)\n",
    "    IQR = Q3 - Q1\n",
    "    lower_bound = Q1 - 1.5 * IQR\n",
    "    upper_bound = Q3 + 1.5 * IQR\n",
    "    \n",
    "    # Clip(cắt) ngoại lai trên biến log\n",
    "    log_col_clipped = log_col.clip(lower=lower_bound, upper=upper_bound)\n",
    "    \n",
    "    return log_col_clipped\n",
    "\n",
    "# Áp dụng cho cả 2 cột\n",
    "df['avg_glucose_level_log'] = log_clip_column(df, 'avg_glucose_level')\n",
    "df['bmi_log'] = log_clip_column(df, 'bmi')"
   ]
  },
  {
   "cell_type": "code",
   "execution_count": null,
   "id": "c34ca6e4",
   "metadata": {},
   "outputs": [],
   "source": [
    "# Kiểm tra lại outliers sau khi xử lý\n",
    "\n",
    "numeric_cols = df.select_dtypes(include=['float64', 'int64']).columns\n",
    "\n",
    "# gọi lại hàm kiểm tra outliers\n",
    "outlier_summary_post = detect_outliers_iqr(df, numeric_cols)\n",
    "print(outlier_summary_post)"
   ]
  },
  {
   "cell_type": "code",
   "execution_count": null,
   "id": "29bb5a8d",
   "metadata": {},
   "outputs": [],
   "source": [
    "# xóa giá trị other trong cột gender\n",
    "df = df[df['gender'] != 'Other'].reset_index(drop=True)"
   ]
  },
  {
   "cell_type": "code",
   "execution_count": null,
   "id": "7c007163",
   "metadata": {},
   "outputs": [],
   "source": [
    "df['gender'].unique()"
   ]
  },
  {
   "cell_type": "code",
   "execution_count": null,
   "id": "fc8a55c1",
   "metadata": {},
   "outputs": [],
   "source": [
    "# các cột phân loại cần mã hóa:\n",
    "categorical_cols = ['gender', 'work_type', 'Residence_type', 'smoking_status']\n",
    "\n",
    "# Áp dụng one-hot encoding\n",
    "df_encoded = pd.get_dummies(df, columns=categorical_cols, drop_first=True)"
   ]
  },
  {
   "cell_type": "markdown",
   "id": "c2a96bfd",
   "metadata": {},
   "source": [
    "### Ưu và nhược điểm của One-Hot Encoding\n",
    "\n",
    "**Ưu điểm:**\n",
    "- Không tạo quan hệ thứ tự giả giữa các giá trị phân loại.\n",
    "- Dễ hiểu, trực quan và phổ biến.\n",
    "- Phù hợp với nhiều thuật toán học máy.\n",
    "- Thực hiện nhanh, có sẵn trong pandas và sklearn.\n",
    "\n",
    "**Nhược điểm:**\n",
    "- Tăng số chiều dữ liệu, gây tốn bộ nhớ.\n",
    "- Không hiệu quả với biến phân loại có nhiều giá trị (high cardinality).\n",
    "- Không thể hiện mối quan hệ gần nhau giữa các nhãn.\n",
    "- Có thể làm giảm hiệu suất với một số thuật toán do dữ liệu rất nhiều chiều.\n"
   ]
  },
  {
   "cell_type": "code",
   "execution_count": null,
   "id": "50a9336b",
   "metadata": {},
   "outputs": [],
   "source": [
    "# chuẩn hóa cột 'ever_married' về dạng nhị phân\n",
    "df_encoded['ever_married'] = df_encoded['ever_married'].map({'Yes': 1, 'No': 0})"
   ]
  },
  {
   "cell_type": "code",
   "execution_count": null,
   "id": "108536e8",
   "metadata": {},
   "outputs": [],
   "source": [
    "from sklearn.preprocessing import StandardScaler\n",
    "\n",
    "numeric_cols = ['age', 'avg_glucose_level', 'bmi']\n",
    "\n",
    "scaler = StandardScaler()\n",
    "df_encoded[numeric_cols] = scaler.fit_transform(df_encoded[numeric_cols])"
   ]
  },
  {
   "cell_type": "code",
   "execution_count": null,
   "id": "e99dad1a",
   "metadata": {},
   "outputs": [],
   "source": [
    "df_encoded.head()"
   ]
  },
  {
   "cell_type": "markdown",
   "id": "fb71b9d4",
   "metadata": {},
   "source": [
    "**Lý do nên dùng StandardScaler**\n",
    "\n",
    "- **Chuẩn hóa dữ liệu về phân phối chuẩn (mean=0, std=1)** giúp nhiều thuật toán học máy hoạt động hiệu quả hơn (ví dụ: Logistic Regression, SVM, Neural Networks).\n",
    "- StandardScaler xử lý tốt dữ liệu có phân phối gần chuẩn, làm cho các đặc trưng có cùng thang đo, tránh việc đặc trưng có giá trị lớn chi phối mô hình.\n",
    "- Các phương pháp khác như MinMaxScaler nhạy cảm với ngoại lai, còn RobustScaler thích hợp khi dữ liệu có nhiều ngoại lai nhưng không phải lúc nào cũng cần thiết.\n",
    "- Do đó, StandardScaler là lựa chọn phổ biến, phù hợp với nhiều bài toán và mô hình học máy."
   ]
  },
  {
   "cell_type": "code",
   "execution_count": null,
   "id": "2471d6e6",
   "metadata": {},
   "outputs": [],
   "source": []
  }
 ],
 "metadata": {
  "kernelspec": {
   "display_name": "Python 3",
   "language": "python",
   "name": "python3"
  },
  "language_info": {
   "codemirror_mode": {
    "name": "ipython",
    "version": 3
   },
   "file_extension": ".py",
   "mimetype": "text/x-python",
   "name": "python",
   "nbconvert_exporter": "python",
   "pygments_lexer": "ipython3",
   "version": "3.10.11"
  }
 },
 "nbformat": 4,
 "nbformat_minor": 5
}
